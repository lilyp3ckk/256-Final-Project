{
 "cells": [
  {
   "cell_type": "code",
   "execution_count": 7,
   "metadata": {},
   "outputs": [],
   "source": [
    "import requests\n",
    "import json"
   ]
  },
  {
   "cell_type": "code",
   "execution_count": 12,
   "metadata": {},
   "outputs": [
    {
     "name": "stdout",
     "output_type": "stream",
     "text": [
      "Enter a city: Chicago\n"
     ]
    },
    {
     "data": {
      "text/plain": [
       "[{'place_id': 235244846,\n",
       "  'licence': 'Data © OpenStreetMap contributors, ODbL 1.0. https://osm.org/copyright',\n",
       "  'osm_type': 'relation',\n",
       "  'osm_id': 122604,\n",
       "  'boundingbox': ['41.644531', '42.0230396', '-87.940101', '-87.5240812'],\n",
       "  'lat': '41.8755616',\n",
       "  'lon': '-87.6244212',\n",
       "  'display_name': 'Chicago, Cook County, Illinois, United States of America',\n",
       "  'class': 'boundary',\n",
       "  'type': 'administrative',\n",
       "  'importance': 0.8615295727100248,\n",
       "  'icon': 'https://nominatim.openstreetmap.org/images/mapicons/poi_boundary_administrative.p.20.png'},\n",
       " {'place_id': 63331749,\n",
       "  'licence': 'Data © OpenStreetMap contributors, ODbL 1.0. https://osm.org/copyright',\n",
       "  'osm_type': 'node',\n",
       "  'osm_id': 5349571275,\n",
       "  'boundingbox': ['41.8914706', '41.9014706', '-87.6407194', '-87.6307194'],\n",
       "  'lat': '41.8964706',\n",
       "  'lon': '-87.6357194',\n",
       "  'display_name': 'Chicago, 300, West Chicago Avenue, Chicago River North, Near North Side, Chicago, Cook County, Illinois, 60654, United States of America',\n",
       "  'class': 'railway',\n",
       "  'type': 'station',\n",
       "  'importance': 0.4060833436228193,\n",
       "  'icon': 'https://nominatim.openstreetmap.org/images/mapicons/transport_train_station2.p.20.png'},\n",
       " {'place_id': 19404378,\n",
       "  'licence': 'Data © OpenStreetMap contributors, ODbL 1.0. https://osm.org/copyright',\n",
       "  'osm_type': 'node',\n",
       "  'osm_id': 1894033187,\n",
       "  'boundingbox': ['41.8916529', '41.9016529', '-87.6331533', '-87.6231533'],\n",
       "  'lat': '41.8966529',\n",
       "  'lon': '-87.6281533',\n",
       "  'display_name': 'Chicago, East Chicago Avenue, Magnificent Mile, Near North Side, Chicago, Cook County, Illinois, 60611, United States of America',\n",
       "  'class': 'railway',\n",
       "  'type': 'station',\n",
       "  'importance': 0.3985709817044999,\n",
       "  'icon': 'https://nominatim.openstreetmap.org/images/mapicons/transport_train_station2.p.20.png'},\n",
       " {'place_id': 6807178,\n",
       "  'licence': 'Data © OpenStreetMap contributors, ODbL 1.0. https://osm.org/copyright',\n",
       "  'osm_type': 'node',\n",
       "  'osm_id': 736035818,\n",
       "  'boundingbox': ['41.8911978', '41.9011978', '-87.6603579', '-87.6503579'],\n",
       "  'lat': '41.8961978',\n",
       "  'lon': '-87.6553579',\n",
       "  'display_name': 'Chicago, North Milwaukee Avenue, West Town, Chicago, Cook County, Illinois, 60642, United States of America',\n",
       "  'class': 'railway',\n",
       "  'type': 'station',\n",
       "  'importance': 0.3968347429646153,\n",
       "  'icon': 'https://nominatim.openstreetmap.org/images/mapicons/transport_train_station2.p.20.png'},\n",
       " {'place_id': 7615059,\n",
       "  'licence': 'Data © OpenStreetMap contributors, ODbL 1.0. https://osm.org/copyright',\n",
       "  'osm_type': 'node',\n",
       "  'osm_id': 848723437,\n",
       "  'boundingbox': ['49.2538997', '49.2738997', '2.4182392', '2.4382392'],\n",
       "  'lat': '49.2638997',\n",
       "  'lon': '2.4282392',\n",
       "  'display_name': 'Chicago, Montataire, Senlis, Oise, Hauts-de-France, France métropolitaine, 60160, France',\n",
       "  'class': 'place',\n",
       "  'type': 'locality',\n",
       "  'importance': 0.36,\n",
       "  'icon': 'https://nominatim.openstreetmap.org/images/mapicons/poi_place_village.p.20.png'},\n",
       " {'place_id': 12938783,\n",
       "  'licence': 'Data © OpenStreetMap contributors, ODbL 1.0. https://osm.org/copyright',\n",
       "  'osm_type': 'node',\n",
       "  'osm_id': 1241758108,\n",
       "  'boundingbox': ['40.6440094', '40.6640094', '0.7134448', '0.7334448'],\n",
       "  'lat': '40.6540094',\n",
       "  'lon': '0.7234448',\n",
       "  'display_name': 'Chicago, Amposta, Montsià, Tarragona, Catalunya, 43870, España',\n",
       "  'class': 'place',\n",
       "  'type': 'locality',\n",
       "  'importance': 0.36,\n",
       "  'icon': 'https://nominatim.openstreetmap.org/images/mapicons/poi_place_village.p.20.png'},\n",
       " {'place_id': 22400173,\n",
       "  'licence': 'Data © OpenStreetMap contributors, ODbL 1.0. https://osm.org/copyright',\n",
       "  'osm_type': 'node',\n",
       "  'osm_id': 2285155351,\n",
       "  'boundingbox': ['17.7949465', '17.8349465', '-88.3315477', '-88.2915477'],\n",
       "  'lat': '17.8149465',\n",
       "  'lon': '-88.3115477',\n",
       "  'display_name': 'Chicago, Belize City, Belize District, Belize',\n",
       "  'class': 'place',\n",
       "  'type': 'hamlet',\n",
       "  'importance': 0.36,\n",
       "  'icon': 'https://nominatim.openstreetmap.org/images/mapicons/poi_place_village.p.20.png'},\n",
       " {'place_id': 25914233,\n",
       "  'licence': 'Data © OpenStreetMap contributors, ODbL 1.0. https://osm.org/copyright',\n",
       "  'osm_type': 'node',\n",
       "  'osm_id': 2527011332,\n",
       "  'boundingbox': ['13.376', '13.416', '121.0784', '121.1184'],\n",
       "  'lat': '13.396',\n",
       "  'lon': '121.0984',\n",
       "  'display_name': 'Chicago, Calapan, Oriental Mindoro, Mimaropa, Philippines',\n",
       "  'class': 'place',\n",
       "  'type': 'hamlet',\n",
       "  'importance': 0.36,\n",
       "  'icon': 'https://nominatim.openstreetmap.org/images/mapicons/poi_place_village.p.20.png'},\n",
       " {'place_id': 64432497,\n",
       "  'licence': 'Data © OpenStreetMap contributors, ODbL 1.0. https://osm.org/copyright',\n",
       "  'osm_type': 'node',\n",
       "  'osm_id': 5545539561,\n",
       "  'boundingbox': ['-33.73745', '-33.69745', '18.9763167', '19.0163167'],\n",
       "  'lat': '-33.71745',\n",
       "  'lon': '18.9963167',\n",
       "  'display_name': 'Chicago, Drakenstein Local Municipality, Cape Winelands District Municipality, Western Cape, 7646, South Africa',\n",
       "  'class': 'place',\n",
       "  'type': 'suburb',\n",
       "  'importance': 0.36,\n",
       "  'icon': 'https://nominatim.openstreetmap.org/images/mapicons/poi_place_village.p.20.png'},\n",
       " {'place_id': 10706404,\n",
       "  'licence': 'Data © OpenStreetMap contributors, ODbL 1.0. https://osm.org/copyright',\n",
       "  'osm_type': 'node',\n",
       "  'osm_id': 1028802194,\n",
       "  'boundingbox': ['4.9323871', '4.9324871', '-52.331374', '-52.331274'],\n",
       "  'lat': '4.9324371',\n",
       "  'lon': '-52.331324',\n",
       "  'display_name': 'Chicago, Cayenne, Guyane, 97300, France',\n",
       "  'class': 'place',\n",
       "  'type': 'neighbourhood',\n",
       "  'importance': 0.30999999999999994}]"
      ]
     },
     "execution_count": 12,
     "metadata": {},
     "output_type": "execute_result"
    }
   ],
   "source": [
    "#openstreetmaps API for the mapping/location part of the app\n",
    "text = input(\"Enter a city: \")\n",
    "data =  { 'q' : text, 'format' : 'json'}\n",
    "url='https://nominatim.openstreetmap.org/search' \n",
    "response = requests.get(url, params=data)\n",
    "geodata = response.json()\n",
    "geodata"
   ]
  },
  {
   "cell_type": "code",
   "execution_count": 13,
   "metadata": {},
   "outputs": [
    {
     "name": "stdout",
     "output_type": "stream",
     "text": [
      "Searching in Chicago, Cook County, Illinois, United States of America\n"
     ]
    }
   ],
   "source": [
    "print(f\"Searching in {geodata[0]['display_name']}\")"
   ]
  },
  {
   "cell_type": "code",
   "execution_count": 25,
   "metadata": {},
   "outputs": [
    {
     "name": "stdout",
     "output_type": "stream",
     "text": [
      "Here are the profiles in fakenames.txt:  Samantha Carlow- Gender: Female, Hometown: Saratoga Springs, Prefered gender: Male, Prefered eye color: Brown, Prefered hair color: Brown, Favorite activity: shopping, Annoyances: pests, Music: R and B, Movie: Great Gatsby, Kids: yes, Color: yellow, tatoos: no, piercings: yes\n",
      "Katie Yerke- Gender: Female, Hometown: Hebron, Prefered gender: Male, Prefered eye color: Brown, Prefered hair color: Brown, Favorite activity: Cheerleading, Annoyances: loud chewers, Music: Country, Movie: Caddy Shack, Kids: yes, Color: Blue, tatoos: no, piercings: yes\n",
      "Mark Leg- Gender: Male, Hometown: Chicago, Prefered gender: Female, Prefered eye color: Brown, Prefered hair color: Brown, Favorite activity: Football, Annoyances: loud music, Music: jazz, Movie: Dumb and dumber, Kids: no, Color: black, tatoos: yes, piercings: no\n",
      "Bella Thorne- Gender: Female, Hometown: Pittsburg, Prefered gender: either, Prefered eye color: green, Prefered hair color: red, Favorite activity: dancing, Annoyances: food left out, Music: heavy metal, Movie: The Ring, Kids: no, Color: red, tatoos: yes, piercings: yes\n",
      "Post Malone- Gender: Male, Hometown: Syracuse, Prefered gender: Female, Prefered eye color: Brown, Prefered hair color: Brown, Favorite activity: singing, Annoyances: bad voices, Music: pop, Movie: Anger management, Kids: yes, Color: blue, tatoos: yes, piercings: yes\n",
      "Rose Flab- Gender: Female, Hometown: Jacksonville, Prefered gender: Female, Prefered eye color: Hazel, Prefered hair color: Blonde, Favorite activity: swimming, Annoyances: loud chewers, Music: R and B, Movie: Tinkerbelle, Kids: yes, Color: pink, tatoos: no, piercings: no\n",
      "Otto Orange- Gender: Male, Hometown: Syracuse, Prefered gender: Female, Prefered eye color: Blue, Prefered hair color: Red, Favorite activity: Dancing, Annoyances: people with no pep, Music: Classical, Movie: Beauty and the Beast, Kids: yes, Color: orange, tatoos: no, piercings: no\n",
      "Samantha Lee- Gender: Female, Hometown: New York City, Prefered gender: Male, Prefered eye color: Brown, Prefered hair color: Black, Favorite activity: shopping, Annoyances: lazy people, Music: Pop, Movie: Caddy Shack, Kids: yes, Color: yellow, tatoos: no, piercings: yes\n",
      "Matt Sham- Gender: Male , Hometown: Saratoga Springs, Prefered gender: Male, Prefered eye color: Green, Prefered hair color: Blonde, Favorite activity: baseball, Annoyances: slow walkers, Music: Rap, Movie: Dirty Dancing, Kids: no, Color: green, tatoos: no, piercings: no\n",
      "Andrew Rambunchious- Gender: Male, Hometown: Sandiego, Prefered gender: Male, Prefered eye color: blue, Prefered hair color: Blonde, Favorite activity: Singing, Annoyances: pests, Music: Theater, Movie: Cats, Kids: yes, Color: Purple, tatoos: no, piercings: yes\n",
      "Dawn Harper- Gender: Female, Hometown: Clifton Park, Prefered gender: Male, Prefered eye color: Brown, Prefered hair color: Black, Favorite activity: Running, Annoyances: loud people, Music: R and B, Movie: The Ring, Kids: no, Color: yellow, tatoos: no, piercings: no\n",
      "Casey Harper- Gender: Male, Hometown: Orlando, Prefered gender: Female, Prefered eye color: Green, Prefered hair color: Brown, Favorite activity: swimming, Annoyances: partiers, Music: pop, Movie: Great Gatsby, Kids: no, Color: Red, tatoos: no, piercings: yes\n",
      "Timothy Run- Gender: Male, Hometown: Prior Lake, Prefered gender: Female, Prefered eye color: Brown, Prefered hair color: Red, Favorite activity: skating, Annoyances: pests, Music: Rap, Movie: Doctor who, Kids: yes, Color: Blue, tatoos: no, piercings: yes\n",
      "Jim Smith- Gender: Male, Hometown: New York City, Prefered gender: Female, Prefered eye color: Brown, Prefered hair color: Brown, Favorite activity: skiing, Annoyances: Bad voices, Music: pop, Movie: Star Wars, Kids: no, Color: yellow, tatoos: no, piercings: no\n",
      "Jane Hansen- Gender: Female, Hometown: Manchester, Prefered gender: Male, Prefered eye color: Blue, Prefered hair color: Blonde, Favorite activity: shopping, Annoyances: loud people, Music: Indie, Movie: Starwars, Kids: no, Color: blie, tatoos: yes, piercings: yes\n",
      "Laurie Stevens- Gender: Female, Hometown: Buffalo, Prefered gender: Male, Prefered eye color: Brown, Prefered hair color: blonde, Favorite activity: skiing, Annoyances: food left out, Music: Rock and Roll, Movie: Avatar, Kids: no, Color: Red, tatoos: yes, piercings: no\n",
      "Portitia Funnel- Gender: Female, Hometown: Syracuse, Prefered gender: Male, Prefered eye color: Blue, Prefered hair color: black, Favorite activity: Partying, Annoyances: lazy people, Music: R and B, Movie: Beauty and the beast, Kids: yes, Color: Red, tatoos: no, piercings: yes\n",
      "Clemon Smith- Gender: Male, Hometown: Westchester, Prefered gender: Female, Prefered eye color: Green, Prefered hair color: Brown, Favorite activity: walks, Annoyances: loud music, Music: country, Movie: Caddy Shack, Kids: no, Color: Pink, tatoos: yes, piercings: yes\n",
      "David Russo- Gender: Male, Hometown: Orlando, Prefered gender: Male, Prefered eye color: Blue, Prefered hair color: Red, Favorite activity: shopping, Annoyances: loud chewers, Music: pop, Movie: Camp Rock, Kids: no, Color: Red, tatoos: yes, piercings: no\n",
      "Silveseter Sandler- Gender: Male, Hometown: Clifton Park, Prefered gender: Female, Prefered eye color: Brown, Prefered hair color: Brown, Favorite activity: sleeping, Annoyances: energetic people, Music: Country, Movie: Avengers, Kids: no, Color: black, tatoos: no, piercings: yes\n",
      "\n"
     ]
    }
   ],
   "source": [
    "filename = \"fakenames.txt\"\n",
    "with open(filename, 'r') as file_in:\n",
    "    message = file_in.read()\n",
    "    \n",
    "print(\"Here are the profiles in %s:  %s\" % (filename, message))\n"
   ]
  },
  {
   "cell_type": "code",
   "execution_count": null,
   "metadata": {},
   "outputs": [],
   "source": []
  }
 ],
 "metadata": {
  "kernelspec": {
   "display_name": "Python 3",
   "language": "python",
   "name": "python3"
  },
  "language_info": {
   "codemirror_mode": {
    "name": "ipython",
    "version": 3
   },
   "file_extension": ".py",
   "mimetype": "text/x-python",
   "name": "python",
   "nbconvert_exporter": "python",
   "pygments_lexer": "ipython3",
   "version": "3.7.6"
  }
 },
 "nbformat": 4,
 "nbformat_minor": 2
}
